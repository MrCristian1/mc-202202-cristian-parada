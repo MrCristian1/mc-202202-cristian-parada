{
  "nbformat": 4,
  "nbformat_minor": 0,
  "metadata": {
    "colab": {
      "provenance": [],
      "authorship_tag": "ABX9TyM2cxiGiFpDjLTHIyDlT1Yf",
      "include_colab_link": true
    },
    "kernelspec": {
      "name": "python3",
      "display_name": "Python 3"
    },
    "language_info": {
      "name": "python"
    }
  },
  "cells": [
    {
      "cell_type": "markdown",
      "metadata": {
        "id": "view-in-github",
        "colab_type": "text"
      },
      "source": [
        "<a href=\"https://colab.research.google.com/github/MrCristian1/mc-202202-cristian-parada/blob/main/Parcial.ipynb\" target=\"_parent\"><img src=\"https://colab.research.google.com/assets/colab-badge.svg\" alt=\"Open In Colab\"/></a>"
      ]
    },
    {
      "cell_type": "markdown",
      "source": [
        "# Punto 1"
      ],
      "metadata": {
        "id": "QwNP5fqZGnlp"
      }
    },
    {
      "cell_type": "code",
      "execution_count": 3,
      "metadata": {
        "colab": {
          "base_uri": "https://localhost:8080/"
        },
        "id": "Ds_DuRkIGIgA",
        "outputId": "49d7003b-30cd-4954-ef50-fa5da9725048"
      },
      "outputs": [
        {
          "output_type": "stream",
          "name": "stdout",
          "text": [
            "Matriz aumentada:\n",
            "[[ 2.  2. -1.  8.]\n",
            " [ 5.  5.  3.  9.]\n",
            " [ 0.  4. -2. 14.]]\n",
            "Pivoteo parcial por filas\n",
            "[[ 5.  5.  3.  9.]\n",
            " [ 0.  4. -2. 14.]\n",
            " [ 2.  2. -1.  8.]]\n",
            "eliminacion hacia adelante\n",
            "[[ 5.   5.   3.   9. ]\n",
            " [ 0.   4.  -2.  14. ]\n",
            " [ 0.   0.  -2.2  4.4]]\n",
            "eliminación hacia atrás\n",
            "[[ 1.   0.   0.   0.5]\n",
            " [ 0.   1.   0.   2.5]\n",
            " [-0.  -0.   1.  -2. ]]\n",
            "solución de X: \n",
            "[[ 0.5]\n",
            " [ 2.5]\n",
            " [-2. ]]\n"
          ]
        }
      ],
      "source": [
        "import numpy as np\n",
        "\n",
        "A = np.array([[2,2,-1],\n",
        "              [5,5,3],\n",
        "              [0,4,-2]])\n",
        "\n",
        "B = np.array([[8],\n",
        "              [9],\n",
        "              [14]])\n",
        "\n",
        "# PROCEDIMIENTO\n",
        "casicero = 1e-15 # Considerar como 0\n",
        "\n",
        "# Evitar truncamiento en operaciones\n",
        "A = np.array(A,dtype=float) \n",
        "\n",
        "# Matriz aumentada\n",
        "AB = np.concatenate((A,B),axis=1)\n",
        "AB0 = np.copy(AB)\n",
        "\n",
        "# Pivoteo por filas\n",
        "tamano = np.shape(AB)\n",
        "w = tamano[0]\n",
        "ñ = tamano[1]\n",
        "\n",
        "# Para cada fila en AB\n",
        "for i in range(0,w-1,1):\n",
        "    # columna desde diagonal i en adelante\n",
        "    columna = abs(AB[i:,i])\n",
        "    dmax = np.argmax(columna)\n",
        "    \n",
        "    # dmax no está en diagonal\n",
        "    if (dmax !=0):\n",
        "        # intercambia filas\n",
        "        temporal = np.copy(AB[i,:])\n",
        "        AB[i,:] = AB[dmax+i,:]\n",
        "        AB[dmax+i,:] = temporal\n",
        "        \n",
        "AB1 = np.copy(AB)\n",
        "\n",
        "# eliminacion hacia adelante\n",
        "for i in range(0,w-1,1):\n",
        "    pivote = AB[i,i]\n",
        "    adelante = i + 1\n",
        "    for k in range(adelante,w,1):\n",
        "        factor = AB[k,i]/pivote\n",
        "        AB[k,:] = AB[k,:] - AB[i,:]*factor\n",
        "AB2 = np.copy(AB)\n",
        "\n",
        "# elimina hacia atras\n",
        "ufila = w-1\n",
        "ucolumna = ñ-1\n",
        "for i in range(ufila,0-1,-1):\n",
        "    pivote = AB[i,i]\n",
        "    atras = i-1 \n",
        "    for k in range(atras,0-1,-1):\n",
        "        factor = AB[k,i]/pivote\n",
        "        AB[k,:] = AB[k,:] - AB[i,:]*factor\n",
        "    # diagonal a unos\n",
        "    AB[i,:] = AB[i,:]/AB[i,i]\n",
        "X = np.copy(AB[:,ucolumna])\n",
        "X = np.transpose([X])\n",
        "\n",
        "\n",
        "# SALIDA\n",
        "print('Matriz aumentada:')\n",
        "print(AB0)\n",
        "print('Pivoteo parcial por filas')\n",
        "print(AB1)\n",
        "print('eliminacion hacia adelante')\n",
        "print(AB2)\n",
        "print('eliminación hacia atrás')\n",
        "print(AB)\n",
        "print('solución de X: ')\n",
        "print(X)"
      ]
    },
    {
      "cell_type": "markdown",
      "source": [
        "#Punto 2"
      ],
      "metadata": {
        "id": "9DgD9oqhGqpw"
      }
    },
    {
      "cell_type": "code",
      "source": [
        "import numpy as np\n",
        "\n",
        "A = np.array([[1,0,-1],\n",
        "              [2,0,2],\n",
        "              [8,2,-3]], dtype=float)\n",
        "\n",
        "# PROCEDIMIENTO\n",
        "casicero = 1e-15 # Considerar como 0\n",
        "\n",
        "# matriz identidad\n",
        "tamano = np.shape(A)\n",
        "n = tamano[0]\n",
        "identidad = np.identity(n)\n",
        "\n",
        "# Matriz aumentada\n",
        "\n",
        "AB = np.concatenate((A,identidad),axis=1)\n",
        "AB0 = np.copy(AB)\n",
        "\n",
        "# Pivoteo por cada fila\n",
        "tamano = np.shape(AB)\n",
        "n = tamano[0]\n",
        "m = tamano[1]\n",
        "\n",
        "# Para cada fila en AB\n",
        "for i in range(0,n-1,1):\n",
        "    # columna desde diagonal i en adelante\n",
        "    columna = abs(AB[i:,i])\n",
        "    dondemax = np.argmax(columna)\n",
        "    \n",
        "    # dondemax no está en diagonal\n",
        "    if (dondemax !=0):\n",
        "        # intercambia filas\n",
        "        temporal = np.copy(AB[i,:])\n",
        "        AB[i,:] = AB[dondemax+i,:]\n",
        "        AB[dondemax+i,:] = temporal\n",
        "AB1 = np.copy(AB)\n",
        "\n",
        "# eliminacion hacia adelante\n",
        "for i in range(0,n-1,1):\n",
        "    pivoteA = AB[i,i]\n",
        "    adelante = i+1\n",
        "    for k in range(adelante,n,1):\n",
        "        factor = AB[k,i]/pivoteA\n",
        "        AB[k,:] = AB[k,:] - AB[i,:]*factor\n",
        "AB2 = np.copy(AB)\n",
        "\n",
        "# elimina hacia atras\n",
        "ultfila = n-1\n",
        "ultcolumna = m-1\n",
        "for i in range(ultfila,0-1,-1):\n",
        "    pivoteA = AB[i,i]\n",
        "    atras = i-1 \n",
        "    for k in range(atras,0-1,-1):\n",
        "        factor = AB[k,i]/pivoteA\n",
        "        AB[k,:] = AB[k,:] - AB[i,:]*factor\n",
        "    # diagonal a unos\n",
        "    AB[i,:] = AB[i,:]/AB[i,i]\n",
        "\n",
        "inversa = np.copy(AB[:,n:])\n",
        "\n",
        "\n",
        "\n",
        "\n",
        "\n",
        "print('Matriz aumentada:')\n",
        "print(AB0)\n",
        "print('Pivoteo parcial por filas')\n",
        "print(AB1)\n",
        "print('eliminacion hacia adelante')\n",
        "print(AB2)\n",
        "print('eliminación hacia atrás')\n",
        "print(AB)\n",
        "print('Inversa de A: ')\n",
        "print(inversa)"
      ],
      "metadata": {
        "colab": {
          "base_uri": "https://localhost:8080/"
        },
        "id": "jYzqjwgfGsOJ",
        "outputId": "45a9e681-bc09-48e6-fa13-c0a66bb16b51"
      },
      "execution_count": 4,
      "outputs": [
        {
          "output_type": "stream",
          "name": "stdout",
          "text": [
            "Matriz aumentada:\n",
            "[[ 1.  0. -1.  1.  0.  0.]\n",
            " [ 2.  0.  2.  0.  1.  0.]\n",
            " [ 8.  2. -3.  0.  0.  1.]]\n",
            "Pivoteo parcial por filas\n",
            "[[ 8.  2. -3.  0.  0.  1.]\n",
            " [ 2.  0.  2.  0.  1.  0.]\n",
            " [ 1.  0. -1.  1.  0.  0.]]\n",
            "eliminacion hacia adelante\n",
            "[[ 8.    2.   -3.    0.    0.    1.  ]\n",
            " [ 0.   -0.5   2.75  0.    1.   -0.25]\n",
            " [ 0.    0.   -2.    1.   -0.5   0.  ]]\n",
            "eliminación hacia atrás\n",
            "[[ 1.     0.     0.     0.5    0.25   0.   ]\n",
            " [-0.     1.    -0.    -2.75  -0.625  0.5  ]\n",
            " [-0.    -0.     1.    -0.5    0.25  -0.   ]]\n",
            "Inversa de A: \n",
            "[[ 0.5    0.25   0.   ]\n",
            " [-2.75  -0.625  0.5  ]\n",
            " [-0.5    0.25  -0.   ]]\n"
          ]
        }
      ]
    },
    {
      "cell_type": "markdown",
      "source": [
        "#Punto 4"
      ],
      "metadata": {
        "id": "YbobWJUPOXHu"
      }
    },
    {
      "cell_type": "markdown",
      "source": [
        "Metodo exponencial\n"
      ],
      "metadata": {
        "id": "sjGja3-6PQaD"
      }
    },
    {
      "cell_type": "code",
      "source": [
        "import statistics\n",
        "import math\n",
        "import matplotlib.pyplot as plt\n",
        "import numpy as np\n",
        "\n",
        "x = [1, 2, 3, 4, 5, 6, 7, 8]\n",
        "y = [7.5, 8, 8.5, 9.2, 9.9, 10.5, 11.5, 12.2]\n",
        "lny = np.log(y)\n",
        "xlny = x * lny\n",
        "\n",
        "x2 = [1, 2, 3, 4, 5, 6, 7, 8]\n",
        "for i in range(0,len(x)):\n",
        "\tx2[i]=x2[i]*x2[i]\n",
        "\n",
        "promlny = statistics.mean(lny)\n",
        "promx = statistics.mean(x)\n",
        "\n",
        "a1 = ((len(x))*(sum(xlny))-(sum(x))*(sum(lny)))/((len(x))*(sum(x2))-(sum(x))**2)\n",
        "a0 = promlny - (a1)*promx\n",
        "print(\"a1 = \", a1)\n",
        "print(\"a0 = \", a0)\n",
        "\n",
        "alfa = (math.e)**a0\n",
        "beta = a1\n",
        "\n",
        "print('y=',alfa,'*e ^',beta,'*x')\n",
        "\n",
        "x = np.arange(0,10,0.5)\n",
        "y = (alfa)*((math.e)**(beta*x))\n",
        "plt.plot(x,y,'o', label='(xi,yi)')\n",
        "plt.plot(x,y, color = 'red')\n",
        "plt.xlabel('x')\n",
        "plt.ylabel('y')\n",
        "plt.show()"
      ],
      "metadata": {
        "colab": {
          "base_uri": "https://localhost:8080/",
          "height": 331
        },
        "id": "Q8NduPy6PSGz",
        "outputId": "f05f9c9a-5b17-4d63-ed11-fce6fc05f36a"
      },
      "execution_count": 8,
      "outputs": [
        {
          "output_type": "stream",
          "name": "stdout",
          "text": [
            "a1 =  0.07056567310610296\n",
            "a0 =  1.937617872420762\n",
            "y= 6.94219406619181 *e^ 0.07056567310610296 *x\n"
          ]
        },
        {
          "output_type": "display_data",
          "data": {
            "text/plain": [
              "<Figure size 432x288 with 1 Axes>"
            ],
            "image/png": "[encoded data removed]"
          },
          "metadata": {
            "needs_background": "light"
          }
        }
      ]
    },
    {
      "cell_type": "markdown",
      "source": [
        "Metodo ecuacion de potencias\n"
      ],
      "metadata": {
        "id": "Twvqi_T5Pr3r"
      }
    },
    {
      "cell_type": "code",
      "source": [
        "import statistics\n",
        "import math\n",
        "import matplotlib.pyplot as plt\n",
        "import numpy as np\n",
        "\n",
        "x = [1, 2, 3, 4, 5, 6, 7, 8]\n",
        "y = [7.5, 8, 8.5, 9.2, 9.9, 10.5, 11.5, 12.2]\n",
        "lny = np.log10(y)\n",
        "lnx = np.log10(x)\n",
        "lnxlny = lnx * lny\n",
        "lnx2 = lnx**2\n",
        "\n",
        "x2 = [1, 2, 3, 4, 5, 6, 7, 8]\n",
        "for i in range(0,len(x)):\n",
        "\tx2[i]=x2[i]*x2[i]\n",
        "\n",
        "\n",
        "promy = sum(lny)/len(x)\n",
        "promx = sum(lnx)/len(x)\n",
        "\n",
        "a1 = ((len(x))*(sum(lnxlny))-(sum(lnx))*(sum(lny)))/((len(x))*(sum(lnx2))-(sum(lnx))**2)\n",
        "a0 = promy - (a1)*promx\n",
        "print(\"a1 = \", a1)\n",
        "print(\"a0 = \", a0)\n",
        "\n",
        "alfa = (10)**a0\n",
        "beta = a1\n",
        "\n",
        "print('y=',alfa,'* x^',beta)\n",
        "\n",
        "x = np.arange(0,10,0.5)\n",
        "y = (alfa)*((x)**(beta))\n",
        "plt.plot(x,y,'o', label='(xi,yi)')\n",
        "plt.plot(x,y, color = 'green')\n",
        "plt.xlabel('x')\n",
        "plt.ylabel('y')\n",
        "plt.show()"
      ],
      "metadata": {
        "colab": {
          "base_uri": "https://localhost:8080/",
          "height": 331
        },
        "id": "VXBIC2jVPurb",
        "outputId": "6817630d-d607-4264-b027-74b5c43b178b"
      },
      "execution_count": 10,
      "outputs": [
        {
          "output_type": "stream",
          "name": "stdout",
          "text": [
            "a1 =  0.2341051343541817\n",
            "a0 =  0.8446330209036337\n",
            "y= 6.992508788803655 * x^ 0.2341051343541817\n"
          ]
        },
        {
          "output_type": "display_data",
          "data": {
            "text/plain": [
              "<Figure size 432x288 with 1 Axes>"
            ],
            "image/png": "[encoded data removed]"
          },
          "metadata": {
            "needs_background": "light"
          }
        }
      ]
    },
    {
      "cell_type": "markdown",
      "source": [
        "Metodo razón de crecimiento"
      ],
      "metadata": {
        "id": "LUSD6f0pP1hL"
      }
    },
    {
      "cell_type": "code",
      "source": [
        "import operator\n",
        "import statistics\n",
        "import math\n",
        "import matplotlib.pyplot as plt\n",
        "import numpy as np\n",
        "\n",
        "\n",
        "x = [1, 2, 3, 4, 5, 6, 7, 8]\n",
        "y = [7.5, 8, 8.5, 9.2, 9.9, 10.5, 11.5, 12.2]\n",
        "x1 = [1, 2, 3, 4, 5, 6, 7, 8]\n",
        "\n",
        "\n",
        "\n",
        "for i in range(0,len(x)):\n",
        "\tx1[i]=1/x1[i]\n",
        "sumx1 = sum(x1)\n",
        "promx1 = statistics.mean(x1)\n",
        "\n",
        "y1 = [7.5, 8, 8.5, 9.2, 9.9, 10.5, 11.5, 12.2]\n",
        "for i in range(0,len(x)):\n",
        "\ty1[i]=1/y1[i]\n",
        "\n",
        "x1y1 = list(map(operator.mul, x1, y1))\n",
        "\n",
        "x2 = x1\n",
        "for i in range(0,len(x)):\n",
        "\tx2[i]=x2[i]*x2[i]\n",
        "sumx2 = sum(x2)\n",
        "\n",
        "\n",
        "promy1 = statistics.mean(y1)\n",
        "\n",
        "\n",
        "a1 = ((len(x))*(sum(x1y1))-(sumx1)*(sum(y1)))/((len(x))*(sumx2)-(sumx1)**2)\n",
        "a0 = promy1 - (a1)*promx1\n",
        "print(\"a1 = \", a1)\n",
        "print(\"a0 = \", a0)\n",
        "\n",
        "alfa = 1/a0\n",
        "beta = a1/a0\n",
        "\n",
        "x = np.arange(0,10,1)\n",
        "y = (alfa)*(x/(beta))\n",
        "\n",
        "print('y=',alfa,'*x/',beta)\n",
        "\n",
        "plt.plot(x,y, color = 'black')\n",
        "plt.plot(x,y, 'o')\n",
        "plt.xlabel('x')\n",
        "plt.ylabel('y')\n",
        "plt.show()"
      ],
      "metadata": {
        "colab": {
          "base_uri": "https://localhost:8080/",
          "height": 333
        },
        "id": "QU9BuOY8P44K",
        "outputId": "4bb8b1ca-2feb-4cc6-f037-e30e86e69a29"
      },
      "execution_count": 11,
      "outputs": [
        {
          "output_type": "stream",
          "name": "stdout",
          "text": [
            "a1 =  0.053379735178288236\n",
            "a0 =  0.0880961851118404\n",
            "y= 11.351229326564754 *x/ 0.6059256154000456\n"
          ]
        },
        {
          "output_type": "display_data",
          "data": {
            "text/plain": [
              "<Figure size 432x288 with 1 Axes>"
            ],
            "image/png": "[encoded data removed]"
          },
          "metadata": {
            "needs_background": "light"
          }
        }
      ]
    },
    {
      "cell_type": "markdown",
      "source": [
        "Respuesta: El metodo exponencial es la que mejor se ajusta"
      ],
      "metadata": {
        "id": "AbrnZFXvROEQ"
      }
    }
  ]
}
