{
  "nbformat": 4,
  "nbformat_minor": 0,
  "metadata": {
    "colab": {
      "name": "MCtaller#6.ipynb",
      "provenance": [],
      "authorship_tag": "ABX9TyMKYm8s+0jSAa/v1IisahDF",
      "include_colab_link": true
    },
    "kernelspec": {
      "name": "python3",
      "display_name": "Python 3"
    },
    "language_info": {
      "name": "python"
    }
  },
  "cells": [
    {
      "cell_type": "markdown",
      "metadata": {
        "id": "view-in-github",
        "colab_type": "text"
      },
      "source": [
        "<a href=\"https://colab.research.google.com/github/MrCristian1/mc-202202-cristian-parada/blob/main/MCtaller_6.ipynb\" target=\"_parent\"><img src=\"https://colab.research.google.com/assets/colab-badge.svg\" alt=\"Open In Colab\"/></a>"
      ]
    },
    {
      "cell_type": "code",
      "execution_count": 2,
      "metadata": {
        "colab": {
          "base_uri": "https://localhost:8080/"
        },
        "id": "LC6_FWvhRlX2",
        "outputId": "fff7ba26-42a9-4452-bea6-fd4bc5ce9ab7"
      },
      "outputs": [
        {
          "output_type": "stream",
          "name": "stdout",
          "text": [
            "Escriba un valor en grados: 90\n",
            "valor en radianes:  1.5707963267948966\n",
            "valor estimado:  -0.25458923932849886\n",
            "error aproximado porcentual:  2.5790424048684083e-08 %\n",
            "iteraciones:  9\n"
          ]
        }
      ],
      "source": [
        "import math\n",
        "import numpy as np\n",
        "from math import factorial\n",
        "\n",
        "esperado = 0.5 *  10**-8 * 100\n",
        "eaproximado = 100\n",
        "\n",
        "x = int(input(\"Escriba un valor en grados: \"))\n",
        "numero = x * math.pi / 180.0 #Deg to Rad\n",
        "print(\"valor en radianes: \", numero)\n",
        "potencia = 2\n",
        "valor = 2\n",
        "iteraciones = 1\n",
        "coseno = 1\n",
        "while eaproximado >= esperado:\n",
        "  op = (pow(numero,potencia)/factorial(valor))\n",
        "  coseno -= op\n",
        "  eaproximado = abs(((coseno-eaproximado)/coseno)*100)\n",
        "  valor += 2\n",
        "  potencia += 2\n",
        "  iteraciones += 1\n",
        "  op2 = (pow(numero,potencia)/factorial(valor))\n",
        "  coseno2 = coseno + op2\n",
        "  eaproximado = abs(((coseno2-coseno)/coseno2)*100)\n",
        "  valor += 2\n",
        "  potencia += 2\n",
        "  iteraciones += 1\n",
        "else:\n",
        "  print(\"valor estimado: \", coseno)\n",
        "  print(\"error aproximado porcentual: \", eaproximado, \"%\")\n",
        "  print(\"iteraciones: \", iteraciones)"
      ]
    }
  ]
}