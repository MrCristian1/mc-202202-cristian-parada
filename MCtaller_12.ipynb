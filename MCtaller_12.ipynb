{
  "nbformat": 4,
  "nbformat_minor": 0,
  "metadata": {
    "colab": {
      "provenance": [],
      "authorship_tag": "ABX9TyM/YY0LrHOHOdf4I88KTAIC",
      "include_colab_link": true
    },
    "kernelspec": {
      "name": "python3",
      "display_name": "Python 3"
    },
    "language_info": {
      "name": "python"
    }
  },
  "cells": [
    {
      "cell_type": "markdown",
      "metadata": {
        "id": "view-in-github",
        "colab_type": "text"
      },
      "source": [
        "<a href=\"https://colab.research.google.com/github/MrCristian1/mc-202202-cristian-parada/blob/main/MCtaller_12.ipynb\" target=\"_parent\"><img src=\"https://colab.research.google.com/assets/colab-badge.svg\" alt=\"Open In Colab\"/></a>"
      ]
    },
    {
      "cell_type": "code",
      "source": [
        "import math \n",
        "from math import factorial\n",
        "from decimal import *\n",
        "\n",
        "xi = 0.55\n",
        "h = 0.005 #diferencia entre los puntos\n",
        "getcontext().prec = 50\n",
        "vactual = Decimal(math.e**-xi)\n",
        "print(\"Orden 0\")\n",
        "print(\"Valor: \", vactual)\n",
        "pot=1\n",
        "val=1\n",
        "\n",
        "for i in range(1, 16): #se usa for para poner un rango de orden de 1 a 15\n",
        "  if i%2 == 0: #El if se utiliza para dividir los ordenes entre pares e impares para que las formulas vayan cambiando\n",
        "    op = Decimal(vactual / math.factorial(val))*Decimal(h*pot) #El decimal se usa para corregir el error que de 0%\n",
        "  else:\n",
        "    op = Decimal(-vactual / math.factorial(val))*Decimal(h*pot)\n",
        "  val += 1\n",
        "  pot += 1\n",
        "  vanterior = vactual\n",
        "  vactual += op\n",
        "  eaproximado = abs((vactual-vanterior)/vactual)*100  #Formula del error aproximado\n",
        "  print(\"Orden \", i)\n",
        "  print(\"Valor: \", vactual)\n",
        "  print(\"Error: \", eaproximado)"
      ],
      "metadata": {
        "colab": {
          "base_uri": "https://localhost:8080/"
        },
        "id": "DssowCgfyn3Q",
        "outputId": "51e3a79e-6745-4cb1-9fb7-60c7146e7038"
      },
      "execution_count": 8,
      "outputs": [
        {
          "output_type": "stream",
          "name": "stdout",
          "text": [
            "Orden 0\n",
            "Valor:  0.576949810380486649563636092352680861949920654296875\n",
            "Orden  1\n",
            "Valor:  0.57406506132858421625576700905927360519088633188593\n",
            "Error:  0.50251256281407036227200409672568123790846330095235\n",
            "Orden  2\n",
            "Valor:  0.57693538663522713739679649242205560639762875643538\n",
            "Error:  0.49751243781094528393687369704793699699868916507530\n",
            "Orden  3\n",
            "Valor:  0.57549304816863906960668174702128763302866667031757\n",
            "Error:  0.25062656641604009095233468277915724716420985508711\n",
            "Orden  4\n",
            "Valor:  0.57597262570877960217467052815300126917370462457958\n",
            "Error:  0.083263946711074106644408736132741322218907162831764\n",
            "Orden  5\n",
            "Valor:  0.57585263141175693975088978355738924299947368988809\n",
            "Error:  0.020837674515524068671029765873540672195650133765515\n",
            "Orden  6\n",
            "Valor:  0.57587662527139909628915811945089258391563972718519\n",
            "Error:  0.0041664930627890503020461970668091542704138595578621\n",
            "Orden  7\n",
            "Valor:  0.57587262612816804490616443393495210714323643188877\n",
            "Error:  0.00069444926700879873829862317858238377082039520470364\n",
            "Orden  8\n",
            "Valor:  0.57587319743037650539034786044447446659492514380525\n",
            "Error:  0.000099206250787449617690524221729166992608963857695298\n",
            "Orden  9\n",
            "Valor:  0.57587312601752960182183544988415385803959736373638\n",
            "Error:  0.000012400795188590672729405860003355671395840693017566\n",
            "Orden  10\n",
            "Valor:  0.57587313395228938491169482197982788609895575287803\n",
            "Error:  0.0000013778659422141488003880931196368618804029478293596\n",
            "Orden  11\n",
            "Valor:  0.57587313315881339566967350940015921643830670456967\n",
            "Error:  1.3778659630978091492287773505468003110371628224573E-7\n",
            "Orden  12\n",
            "Valor:  0.57587313323094757641046602963701267824745907672281\n",
            "Error:  1.2526054191151838587775666694047743170522337646926E-8\n",
            "Orden  13\n",
            "Valor:  0.57587313322493639468131368864188134425890670946413\n",
            "Error:  1.0438378494043009591771211828448696671094734949425E-9\n",
            "Orden  14\n",
            "Valor:  0.57587313322539879327585904205509182972459405900123\n",
            "Error:  8.0295219184043607415775221366577398365517265551192E-11\n",
            "Orden  15\n",
            "Valor:  0.57587313322536576480482006172394464890080547041637\n",
            "Error:  5.7353727988651910896858373942117923930067898342544E-12\n"
          ]
        }
      ]
    }
  ]
}