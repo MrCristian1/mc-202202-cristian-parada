{
  "nbformat": 4,
  "nbformat_minor": 0,
  "metadata": {
    "colab": {
      "provenance": [],
      "authorship_tag": "ABX9TyNdiWzEwW6WyvK42n7HFi4y",
      "include_colab_link": true
    },
    "kernelspec": {
      "name": "python3",
      "display_name": "Python 3"
    },
    "language_info": {
      "name": "python"
    }
  },
  "cells": [
    {
      "cell_type": "markdown",
      "metadata": {
        "id": "view-in-github",
        "colab_type": "text"
      },
      "source": [
        "<a href=\"https://colab.research.google.com/github/MrCristian1/mc-202202-cristian-parada/blob/main/Mctaller_18.ipynb\" target=\"_parent\"><img src=\"https://colab.research.google.com/assets/colab-badge.svg\" alt=\"Open In Colab\"/></a>"
      ]
    },
    {
      "cell_type": "markdown",
      "source": [
        "#Primer metodo"
      ],
      "metadata": {
        "id": "BWOl6IGWfZ0p"
      }
    },
    {
      "cell_type": "code",
      "source": [
        "import numpy as np\n",
        "import matplotlib.pyplot as plt\n",
        "import sympy as sym\n",
        "\n",
        "xi = [1, 3, 5, 7, 9, 11, 13, 15]\n",
        "yi = [2.1, 3.2, 3.8, 4, 4.2, 4.4, 4.5, 4.7]\n",
        "######################\n",
        "xi = np.array(xi)\n",
        "yi = np.array(yi)\n",
        "n = len(xi)\n",
        "\n",
        "\n",
        "####################\n",
        "xm = np.mean(xi)\n",
        "ym = np.mean(yi)\n",
        "sx = np.sum(xi)\n",
        "sy = np.sum(yi)\n",
        "sxy = np.sum(xi*yi)\n",
        "sx2 = np.sum(xi**2)\n",
        "sy2 = np.sum(yi**2)\n",
        "\n",
        "#######################\n",
        "\n",
        "a1 = (n*sxy-sx*sy)/(n*sx2-sx**2)\n",
        "a0 = ym - a1*xm\n",
        "\n",
        "##########################\n",
        "x = sym.Symbol('x')\n",
        "f = a0 + a1*x\n",
        "\n",
        "fx = sym.lambdify(x,f)\n",
        "fi = fx(xi)\n",
        "\n",
        "##########################\n",
        "print('ymedia =' ,ym)\n",
        "print('f = ' ,f)\n",
        "\n",
        "\n",
        "plt.plot(xi,yi,'o', label='(xi,yi)')\n",
        "#plt.stem(xi,yi, bottom=ym)\n",
        "plt.plot(xi,fi, color = 'red', label=f)\n",
        "plt.xlabel('xi')\n",
        "plt.ylabel('yi')\n",
        "plt.legend()\n",
        "plt.show()"
      ],
      "metadata": {
        "colab": {
          "base_uri": "https://localhost:8080/",
          "height": 314
        },
        "id": "vsFbk-0PfiHe",
        "outputId": "317434a0-902d-48e2-9534-d790f35176f3"
      },
      "execution_count": 12,
      "outputs": [
        {
          "output_type": "stream",
          "name": "stdout",
          "text": [
            "ymedia = 3.8625000000000003\n",
            "f =  0.158928571428572*x + 2.59107142857143\n"
          ]
        },
        {
          "output_type": "display_data",
          "data": {
            "text/plain": [
              "<Figure size 432x288 with 1 Axes>"
            ],
            "image/png": "[encoded data removed]"
          },
          "metadata": {
            "needs_background": "light"
          }
        }
      ]
    },
    {
      "cell_type": "markdown",
      "source": [
        "#Segundo metodo"
      ],
      "metadata": {
        "id": "lvAkwyQRcM-L"
      }
    },
    {
      "cell_type": "code",
      "execution_count": 59,
      "metadata": {
        "colab": {
          "base_uri": "https://localhost:8080/",
          "height": 314
        },
        "id": "FLdhIWhtcHuA",
        "outputId": "f362260f-98b5-4e8f-88a7-731a8ebb153c"
      },
      "outputs": [
        {
          "output_type": "stream",
          "name": "stdout",
          "text": [
            "a1 =  0.04662267660419332\n",
            "a0 =  0.9513576564280927\n"
          ]
        },
        {
          "output_type": "display_data",
          "data": {
            "text/plain": [
              "<Figure size 432x288 with 1 Axes>"
            ],
            "image/png": "[encoded data removed]"
          },
          "metadata": {
            "needs_background": "light"
          }
        }
      ],
      "source": [
        "import statistics\n",
        "import math\n",
        "import matplotlib.pyplot as plt\n",
        "import numpy as np\n",
        "\n",
        "x = [1, 3, 5, 7, 9, 11, 13, 15]\n",
        "y = [2.1, 3.2, 3.8, 4, 4.2, 4.4, 4.5, 4.7]\n",
        "lny = np.log(y)\n",
        "xlny = x * lny\n",
        "\n",
        "x2 = [1, 3, 5, 7, 9, 11, 13, 15]\n",
        "for i in range(0,len(x)):\n",
        "\tx2[i]=x2[i]*x2[i]\n",
        "\n",
        "promlny = statistics.mean(lny)\n",
        "promx = statistics.mean(x)\n",
        "\n",
        "a1 = ((len(x))*(sum(xlny))-(sum(x))*(sum(lny)))/((len(x))*(sum(x2))-(sum(x))**2)\n",
        "a0 = promlny - (a1)*promx\n",
        "print(\"a1 = \", a1)\n",
        "print(\"a0 = \", a0)\n",
        "\n",
        "alfa = (math.e)**a0\n",
        "beta = a1\n",
        "\n",
        "x = np.arange(0,10,0.5)\n",
        "y = (alfa)*((math.e)**(beta*x))\n",
        "plt.plot(x,y,'o', label='(xi,yi)')\n",
        "plt.plot(x,y, color = 'red')\n",
        "plt.xlabel('x')\n",
        "plt.ylabel('y')\n",
        "plt.show()"
      ]
    },
    {
      "cell_type": "markdown",
      "source": [
        "#Tercer metodo"
      ],
      "metadata": {
        "id": "Nr-pH9a2lkf3"
      }
    },
    {
      "cell_type": "code",
      "source": [
        "import statistics\n",
        "import math\n",
        "import matplotlib.pyplot as plt\n",
        "import numpy as np\n",
        "\n",
        "x = [1, 3, 5, 7, 9, 11, 13, 15]\n",
        "y = [2.1, 3.2, 3.8, 4, 4.2, 4.4, 4.5, 4.7]\n",
        "lny = np.log10(y)\n",
        "lnx = np.log10(x)\n",
        "lnxlny = lnx * lny\n",
        "lnx2 = lnx**2\n",
        "\n",
        "x2 = [1, 3, 5, 7, 9, 11, 13, 15]\n",
        "for i in range(0,len(x)):\n",
        "\tx2[i]=x2[i]*x2[i]\n",
        "\n",
        "\n",
        "promy = sum(lny)/len(x)\n",
        "promx = sum(lnx)/len(x)\n",
        "\n",
        "a1 = ((len(x))*(sum(lnxlny))-(sum(lnx))*(sum(lny)))/((len(x))*(sum(lnx2))-(sum(lnx))**2)\n",
        "a0 = promy - (a1)*promx\n",
        "print(\"a1 = \", a1)\n",
        "print(\"a0 = \", a0)\n",
        "\n",
        "alfa = (10)**a0\n",
        "beta = a1\n",
        "\n",
        "x = np.arange(0,10,0.5)\n",
        "y = (alfa)*((x)**(beta))\n",
        "plt.plot(x,y,'o', label='(xi,yi)')\n",
        "plt.plot(x,y, color = 'green')\n",
        "plt.xlabel('x')\n",
        "plt.ylabel('y')\n",
        "plt.show()"
      ],
      "metadata": {
        "colab": {
          "base_uri": "https://localhost:8080/",
          "height": 314
        },
        "id": "79_vRXQumbhn",
        "outputId": "6480c7d3-4693-4e64-a241-c2fe1f5630cf"
      },
      "execution_count": 60,
      "outputs": [
        {
          "output_type": "stream",
          "name": "stdout",
          "text": [
            "a1 =  0.2882363482885548\n",
            "a0 =  0.3479198952486844\n"
          ]
        },
        {
          "output_type": "display_data",
          "data": {
            "text/plain": [
              "<Figure size 432x288 with 1 Axes>"
            ],
            "image/png": "[encoded data removed]"
          },
          "metadata": {
            "needs_background": "light"
          }
        }
      ]
    },
    {
      "cell_type": "markdown",
      "source": [
        "#Cuarto metodo"
      ],
      "metadata": {
        "id": "e0lipe2qBSwO"
      }
    },
    {
      "cell_type": "code",
      "source": [
        "import operator\n",
        "import statistics\n",
        "import math\n",
        "import matplotlib.pyplot as plt\n",
        "import numpy as np\n",
        "\n",
        "\n",
        "x = [1, 3, 5, 7, 9, 11, 13, 15]\n",
        "y = [2.1, 3.2, 3.8, 4, 4.2, 4.4, 4.5, 4.7]\n",
        "x1 = [1, 3, 5, 7, 9, 11, 13, 15]\n",
        "\n",
        "\n",
        "\n",
        "for i in range(0,len(x)):\n",
        "\tx1[i]=1/x1[i]\n",
        "sumx1 = sum(x1)\n",
        "promx1 = statistics.mean(x1)\n",
        "\n",
        "y1 = [2.1, 3.2, 3.8, 4, 4.2, 4.4, 4.5, 4.7]\n",
        "for i in range(0,len(x)):\n",
        "\ty1[i]=1/y1[i]\n",
        "\n",
        "x1y1 = list(map(operator.mul, x1, y1))\n",
        "\n",
        "x2 = x1\n",
        "for i in range(0,len(x)):\n",
        "\tx2[i]=x2[i]*x2[i]\n",
        "sumx2 = sum(x2)\n",
        "\n",
        "\n",
        "promy1 = statistics.mean(y1)\n",
        "\n",
        "\n",
        "a1 = ((len(x))*(sum(x1y1))-(sumx1)*(sum(y1)))/((len(x))*(sumx2)-(sumx1)**2)\n",
        "a0 = promy1 - (a1)*promx1\n",
        "print(\"a1 = \", a1)\n",
        "print(\"a0 = \", a0)\n",
        "\n",
        "alfa = 1/a0\n",
        "beta = a1/a0\n",
        "\n",
        "x = np.arange(0,10,1)\n",
        "y = (alfa)*(x/(beta))\n",
        "plt.plot(x,y, color = 'black')\n",
        "plt.plot(x,y, 'o')\n",
        "plt.xlabel('x')\n",
        "plt.ylabel('y')\n",
        "plt.show()"
      ],
      "metadata": {
        "colab": {
          "base_uri": "https://localhost:8080/",
          "height": 314
        },
        "id": "n6s4ePQRCqrs",
        "outputId": "dc0d7f33-29c5-4501-c9fb-fa3107eb6b8c"
      },
      "execution_count": 61,
      "outputs": [
        {
          "output_type": "stream",
          "name": "stdout",
          "text": [
            "a1 =  0.27554114280146386\n",
            "a0 =  0.20563941465311808\n"
          ]
        },
        {
          "output_type": "display_data",
          "data": {
            "text/plain": [
              "<Figure size 432x288 with 1 Axes>"
            ],
            "image/png": "[encoded data removed]"
          },
          "metadata": {
            "needs_background": "light"
          }
        }
      ]
    }
  ]
}