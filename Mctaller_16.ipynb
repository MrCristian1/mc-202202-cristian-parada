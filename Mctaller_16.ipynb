{
  "nbformat": 4,
  "nbformat_minor": 0,
  "metadata": {
    "colab": {
      "provenance": [],
      "authorship_tag": "ABX9TyOA4lsPdGyqCCrogHeqWwoe",
      "include_colab_link": true
    },
    "kernelspec": {
      "name": "python3",
      "display_name": "Python 3"
    },
    "language_info": {
      "name": "python"
    }
  },
  "cells": [
    {
      "cell_type": "markdown",
      "metadata": {
        "id": "view-in-github",
        "colab_type": "text"
      },
      "source": [
        "<a href=\"https://colab.research.google.com/github/MrCristian1/mc-202202-cristian-parada/blob/main/Mctaller_16.ipynb\" target=\"_parent\"><img src=\"https://colab.research.google.com/assets/colab-badge.svg\" alt=\"Open In Colab\"/></a>"
      ]
    },
    {
      "cell_type": "code",
      "execution_count": null,
      "metadata": {
        "colab": {
          "base_uri": "https://localhost:8080/",
          "height": 314
        },
        "id": "9aYdrKI03-kL",
        "outputId": "14538e55-ab78-4538-a290-0a99768f7acb"
      },
      "outputs": [
        {
          "output_type": "stream",
          "name": "stdout",
          "text": [
            "ymedia = 3.775\n",
            "f =  7.47142857142857 - 0.821428571428571*x\n"
          ]
        },
        {
          "output_type": "display_data",
          "data": {
            "text/plain": [
              "<Figure size 432x288 with 1 Axes>"
            ],
            "image/png": "[encoded data removed]"
          },
          "metadata": {
            "needs_background": "light"
          }
        }
      ],
      "source": [
        "import numpy as np\n",
        "import matplotlib.pyplot as plt\n",
        "import sympy as sym\n",
        "\n",
        "xi = [1, 2, 3, 4, 5, 6, 7, 8]\n",
        "yi = [7, 5, 6, 3, 4, 2.6, 2, 0.6]\n",
        "######################\n",
        "xi = np.array(xi)\n",
        "yi = np.array(yi)\n",
        "n = len(xi)\n",
        "\n",
        "\n",
        "####################\n",
        "xm = np.mean(xi)\n",
        "ym = np.mean(yi)\n",
        "sx = np.sum(xi)\n",
        "sy = np.sum(yi)\n",
        "sxy = np.sum(xi*yi)\n",
        "sx2 = np.sum(xi**2)\n",
        "sy2 = np.sum(yi**2)\n",
        "\n",
        "#######################\n",
        "\n",
        "a1 = (n*sxy-sx*sy)/(n*sx2-sx**2)\n",
        "a0 = ym - a1*xm\n",
        "\n",
        "##########################\n",
        "x = sym.Symbol('x')\n",
        "f = a0 + a1*x\n",
        "\n",
        "fx = sym.lambdify(x,f)\n",
        "fi = fx(xi)\n",
        "\n",
        "##########################\n",
        "print('ymedia =' ,ym)\n",
        "print('f = ' ,f)\n",
        "\n",
        "\n",
        "plt.plot(xi,yi,'o', label='(xi,yi)')\n",
        "#plt.stem(xi,yi, bottom=ym)\n",
        "plt.plot(xi,fi, color = 'red', label=f)\n",
        "plt.xlabel('xi')\n",
        "plt.ylabel('yi')\n",
        "plt.legend()\n",
        "plt.show()"
      ]
    }
  ]
}