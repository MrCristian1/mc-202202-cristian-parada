{
  "nbformat": 4,
  "nbformat_minor": 0,
  "metadata": {
    "colab": {
      "provenance": [],
      "authorship_tag": "ABX9TyPauVDijDr/VtYb4H/EohJO",
      "include_colab_link": true
    },
    "kernelspec": {
      "name": "python3",
      "display_name": "Python 3"
    },
    "language_info": {
      "name": "python"
    }
  },
  "cells": [
    {
      "cell_type": "markdown",
      "metadata": {
        "id": "view-in-github",
        "colab_type": "text"
      },
      "source": [
        "<a href=\"https://colab.research.google.com/github/MrCristian1/mc-202202-cristian-parada/blob/main/Mctaller_19.ipynb\" target=\"_parent\"><img src=\"https://colab.research.google.com/assets/colab-badge.svg\" alt=\"Open In Colab\"/></a>"
      ]
    },
    {
      "cell_type": "code",
      "execution_count": 14,
      "metadata": {
        "colab": {
          "base_uri": "https://localhost:8080/",
          "height": 367
        },
        "id": "VB4XPRgjCQoI",
        "outputId": "f869976b-cfba-4aa8-a477-b584eac8377b"
      },
      "outputs": [
        {
          "output_type": "stream",
          "name": "stdout",
          "text": [
            "st: 145.37714285714284\n",
            "Desviacion estandar:  4.922349419690135\n",
            "sr:  13.354285714285716\n",
            "Error estandar:  1.6342757242451909\n",
            "Coeficiente de correlación: 95.29640094389895\n"
          ]
        },
        {
          "output_type": "display_data",
          "data": {
            "text/plain": [
              "<Figure size 432x288 with 1 Axes>"
            ],
            "image/png": "[encoded data removed]"
          },
          "metadata": {
            "needs_background": "light"
          }
        }
      ],
      "source": [
        "import numpy as np\n",
        "import math\n",
        "import matplotlib.pyplot as plt\n",
        "import sympy as sym\n",
        "\n",
        "xi = [1, 2, 3, 4, 5, 6, 7]\n",
        "yi = [0.2, 0.6, 1.6, 3.5, 5.5, 9.1, 13.5]\n",
        "######################\n",
        "xi = np.array(xi)\n",
        "yi = np.array(yi)\n",
        "n = len(xi)\n",
        "\n",
        "\n",
        "####################\n",
        "xm = np.mean(xi)\n",
        "ym = np.mean(yi)\n",
        "sx = np.sum(xi)\n",
        "sy = np.sum(yi)\n",
        "sxy = np.sum(xi*yi)\n",
        "sx2 = np.sum(xi**2)\n",
        "sy2 = np.sum(yi**2)\n",
        "\n",
        "#######################\n",
        "\n",
        "a1 = (n*sxy-sx*sy)/(n*sx2-sx**2)\n",
        "a0 = ym - a1*xm\n",
        "\n",
        "\n",
        "\n",
        "st=0\n",
        "\n",
        "\n",
        "\n",
        "for i in range (n):\n",
        "  st += (yi[i] - ym)**2\n",
        "\n",
        "\n",
        "\n",
        "print('st:', st)\n",
        "\n",
        "SY19= np.sqrt(st/6)\n",
        "\n",
        "print('Desviacion estandar: ', SY19)\n",
        "\n",
        "sr=0\n",
        "for i in range (n):\n",
        "  sr += (yi[i] - a0 - a1*xi[i])**2\n",
        "\n",
        "print('sr: ', sr)\n",
        "\n",
        "\n",
        "\n",
        "#Error estandar\n",
        "\n",
        "\n",
        "SyDx = np.sqrt(sr/5)\n",
        "\n",
        "print('Error estandar: ', SyDx)\n",
        "\n",
        "\n",
        "\n",
        "\n",
        "#COEFICIENTE DE CORRELACION\n",
        "\n",
        "r=np.sqrt((st-sr)/st)*100\n",
        "\n",
        "print('Coeficiente de correlación:', r)\n",
        "\n",
        "\n",
        "##########################\n",
        "x = sym.Symbol('x')\n",
        "f = a0 + a1*x\n",
        "\n",
        "fx = sym.lambdify(x,f)\n",
        "fi = fx(xi)\n",
        "\n",
        "##########################\n",
        "#print('ymedia =' ,ym)\n",
        "#print('f = ' ,f)\n",
        "\n",
        "\n",
        "plt.plot(xi,yi,'o', label='(xi,yi)')\n",
        "#plt.stem(xi,yi, bottom=ym)\n",
        "plt.plot(xi,fi, color = 'red', label=f)\n",
        "plt.xlabel('xi')\n",
        "plt.ylabel('yi')\n",
        "plt.legend()\n",
        "plt.show()"
      ]
    }
  ]
}