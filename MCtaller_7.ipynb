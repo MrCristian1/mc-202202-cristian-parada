{
  "nbformat": 4,
  "nbformat_minor": 0,
  "metadata": {
    "colab": {
      "provenance": [],
      "authorship_tag": "ABX9TyOKkxBpCoLZU+3Yt/z8ILKQ",
      "include_colab_link": true
    },
    "kernelspec": {
      "name": "python3",
      "display_name": "Python 3"
    },
    "language_info": {
      "name": "python"
    }
  },
  "cells": [
    {
      "cell_type": "markdown",
      "metadata": {
        "id": "view-in-github",
        "colab_type": "text"
      },
      "source": [
        "<a href=\"https://colab.research.google.com/github/MrCristian1/mc-202202-cristian-parada/blob/main/MCtaller_7.ipynb\" target=\"_parent\"><img src=\"https://colab.research.google.com/assets/colab-badge.svg\" alt=\"Open In Colab\"/></a>"
      ]
    },
    {
      "cell_type": "code",
      "source": [
        "import math\n",
        "from math import factorial\n",
        "\n",
        "es = 0.5 *  10**-8 * 100\n",
        "eaproximado = 100\n",
        "\n",
        "numero = 0.85\n",
        "potencia = 1\n",
        "valor = 1\n",
        "iteraciones = 1\n",
        "e = 1\n",
        "while eaproximado >= es:\n",
        "  op = (pow(numero,potencia)/factorial(valor))\n",
        "  e -= op\n",
        "  iteraciones += 1\n",
        "  eaproximado = abs(((e-eaproximado)/e)*100)\n",
        "  valor += 1\n",
        "  potencia += 1\n",
        "  #-----------------------------------------------------------------------------\n",
        "  op2 = (pow(numero,potencia)/factorial(valor))\n",
        "  e2 = e + op2\n",
        "  iteraciones += 1\n",
        "  eaproximado = abs(((e2-e)/e2)*100)\n",
        "  valor += 1\n",
        "  potencia += 1\n",
        "else:\n",
        "  print(\"valor estimado del ejercicio: \", e)\n",
        "  print(\"El error aproximado porcentual es de: \", eaproximado, \"%\")\n",
        "  print(\"iteraciones totales: \", iteraciones)"
      ],
      "metadata": {
        "colab": {
          "base_uri": "https://localhost:8080/"
        },
        "id": "BKFOHxvrFJI3",
        "outputId": "9cba3914-db1f-45dc-ab8b-3bcbb72e03aa"
      },
      "execution_count": 12,
      "outputs": [
        {
          "output_type": "stream",
          "name": "stdout",
          "text": [
            "valor estimado del ejercicio:  0.04388404001143489\n",
            "El error aproximado porcentual es de:  2.68626531673487e-09 %\n",
            "iteraciones totales:  15\n"
          ]
        }
      ]
    },
    {
      "cell_type": "code",
      "source": [
        "import math\n",
        "from math import factorial\n",
        "\n",
        "es = 0.5 *  10**-8 * 100\n",
        "eaproximado = 100\n",
        "\n",
        "numero = 0.85\n",
        "potencia = 1\n",
        "valor = 1\n",
        "iteraciones = 1\n",
        "e = 1\n",
        "while eaproximado >= es:\n",
        "  op = (pow(numero,potencia)/factorial(valor))\n",
        "  e += op\n",
        "  e2 = 1/e\n",
        "  iteraciones += 1\n",
        "  eaproximado = abs(((e2-eaproximado)/e2)*100)\n",
        "  valor += 1\n",
        "  potencia += 1\n",
        "  #-------------------------------------------------------------\n",
        "  op = (pow(numero,potencia)/factorial(valor))\n",
        "  e += op\n",
        "  e3 = 1/e\n",
        "  iteraciones += 1\n",
        "  eaproximado = abs(((e3-e2)/e2)*100)\n",
        "  valor += 1\n",
        "  potencia += 1\n",
        "else:\n",
        "  print(\"valor estimado del ejercicio: \", e2)\n",
        "  print(\"El error aproximado porcentual es de: \", eaproximado, \"%\")\n",
        "  print(\"iteraciones totales: \", iteraciones)"
      ],
      "metadata": {
        "colab": {
          "base_uri": "https://localhost:8080/"
        },
        "id": "xB9cuG0tG8Xu",
        "outputId": "d1c2d2dd-9684-4ace-ec5e-2ffb6cb0447a"
      },
      "execution_count": 11,
      "outputs": [
        {
          "output_type": "stream",
          "name": "stdout",
          "text": [
            "valor estimado:  0.42741493200675057\n",
            "El error aproximado porcentual es de:  1.2692270919058235e-08 %\n",
            "iteraciones totales:  13\n"
          ]
        }
      ]
    }
  ]
}