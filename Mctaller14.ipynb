{
  "nbformat": 4,
  "nbformat_minor": 0,
  "metadata": {
    "colab": {
      "provenance": [],
      "authorship_tag": "ABX9TyPLjn2/UcqmJ0Z+aiqzJzMk",
      "include_colab_link": true
    },
    "kernelspec": {
      "name": "python3",
      "display_name": "Python 3"
    },
    "language_info": {
      "name": "python"
    }
  },
  "cells": [
    {
      "cell_type": "markdown",
      "metadata": {
        "id": "view-in-github",
        "colab_type": "text"
      },
      "source": [
        "<a href=\"https://colab.research.google.com/github/MrCristian1/mc-202202-cristian-parada/blob/main/Mctaller14.ipynb\" target=\"_parent\"><img src=\"https://colab.research.google.com/assets/colab-badge.svg\" alt=\"Open In Colab\"/></a>"
      ]
    },
    {
      "cell_type": "code",
      "source": [
        "import numpy as np\n",
        "\n",
        "A = np.array([[1,0,1],\n",
        "              [3,4,3],\n",
        "              [4,1,0]])\n",
        "\n",
        "B = np.array([[2.5],\n",
        "              [11.5],\n",
        "              [15]])\n",
        "\n",
        "# PROCEDIMIENTO\n",
        "casicero = 1e-15 # Considerar como 0\n",
        "\n",
        "# Evitar truncamiento en operaciones\n",
        "A = np.array(A,dtype=float) \n",
        "\n",
        "# Matriz aumentada\n",
        "AB = np.concatenate((A,B),axis=1)\n",
        "AB0 = np.copy(AB)\n",
        "\n",
        "# Pivoteo por filas\n",
        "tamano = np.shape(AB)\n",
        "w = tamano[0]\n",
        "ñ = tamano[1]\n",
        "\n",
        "# Para cada fila en AB\n",
        "for i in range(0,w-1,1):\n",
        "    # columna desde diagonal i en adelante\n",
        "    columna = abs(AB[i:,i])\n",
        "    dmax = np.argmax(columna)\n",
        "    \n",
        "    # dmax no está en diagonal\n",
        "    if (dmax !=0):\n",
        "        # intercambia filas\n",
        "        temporal = np.copy(AB[i,:])\n",
        "        AB[i,:] = AB[dmax+i,:]\n",
        "        AB[dmax+i,:] = temporal\n",
        "        \n",
        "AB1 = np.copy(AB)\n",
        "\n",
        "# eliminacion hacia adelante\n",
        "for i in range(0,w-1,1):\n",
        "    pivote = AB[i,i]\n",
        "    adelante = i + 1\n",
        "    for k in range(adelante,w,1):\n",
        "        factor = AB[k,i]/pivote\n",
        "        AB[k,:] = AB[k,:] - AB[i,:]*factor\n",
        "AB2 = np.copy(AB)\n",
        "\n",
        "# elimina hacia atras\n",
        "ufila = w-1\n",
        "ucolumna = ñ-1\n",
        "for i in range(ufila,0-1,-1):\n",
        "    pivote = AB[i,i]\n",
        "    atras = i-1 \n",
        "    for k in range(atras,0-1,-1):\n",
        "        factor = AB[k,i]/pivote\n",
        "        AB[k,:] = AB[k,:] - AB[i,:]*factor\n",
        "    # diagonal a unos\n",
        "    AB[i,:] = AB[i,:]/AB[i,i]\n",
        "X = np.copy(AB[:,ucolumna])\n",
        "X = np.transpose([X])\n",
        "\n",
        "\n",
        "# SALIDA\n",
        "print('Matriz aumentada:')\n",
        "print(AB0)\n",
        "print('Pivoteo parcial por filas')\n",
        "print(AB1)\n",
        "print('eliminacion hacia adelante')\n",
        "print(AB2)\n",
        "print('eliminación hacia atrás')\n",
        "print(AB)\n",
        "print('solución de X: ')\n",
        "print(X)"
      ],
      "metadata": {
        "colab": {
          "base_uri": "https://localhost:8080/"
        },
        "id": "DM-c6iH15bx6",
        "outputId": "356bd3af-3b15-41e6-a4c9-45dc9716eca2"
      },
      "execution_count": null,
      "outputs": [
        {
          "output_type": "stream",
          "name": "stdout",
          "text": [
            "Matriz aumentada:\n",
            "[[ 1.   0.   1.   2.5]\n",
            " [ 3.   4.   3.  11.5]\n",
            " [ 4.   1.   0.  15. ]]\n",
            "Pivoteo parcial por filas\n",
            "[[ 4.   1.   0.  15. ]\n",
            " [ 3.   4.   3.  11.5]\n",
            " [ 1.   0.   1.   2.5]]\n",
            "eliminacion hacia adelante\n",
            "[[ 4.          1.          0.         15.        ]\n",
            " [ 0.          3.25        3.          0.25      ]\n",
            " [ 0.          0.          1.23076923 -1.23076923]]\n",
            "eliminación hacia atrás\n",
            "[[ 1.   0.   0.   3.5]\n",
            " [ 0.   1.   0.   1. ]\n",
            " [ 0.   0.   1.  -1. ]]\n",
            "solución de X: \n",
            "[[ 3.5]\n",
            " [ 1. ]\n",
            " [-1. ]]\n"
          ]
        }
      ]
    }
  ]
}