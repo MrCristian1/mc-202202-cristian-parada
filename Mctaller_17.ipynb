{
  "nbformat": 4,
  "nbformat_minor": 0,
  "metadata": {
    "colab": {
      "provenance": [],
      "authorship_tag": "ABX9TyNcO00DQ6AJ2BGDIPK9ovnK",
      "include_colab_link": true
    },
    "kernelspec": {
      "name": "python3",
      "display_name": "Python 3"
    },
    "language_info": {
      "name": "python"
    }
  },
  "cells": [
    {
      "cell_type": "markdown",
      "metadata": {
        "id": "view-in-github",
        "colab_type": "text"
      },
      "source": [
        "<a href=\"https://colab.research.google.com/github/MrCristian1/mc-202202-cristian-parada/blob/main/Mctaller_17.ipynb\" target=\"_parent\"><img src=\"https://colab.research.google.com/assets/colab-badge.svg\" alt=\"Open In Colab\"/></a>"
      ]
    },
    {
      "cell_type": "code",
      "execution_count": 24,
      "metadata": {
        "colab": {
          "base_uri": "https://localhost:8080/",
          "height": 348
        },
        "id": "1m59hQ8n0unz",
        "outputId": "d2beb17a-0133-4509-9fb1-b464421826cb"
      },
      "outputs": [
        {
          "output_type": "stream",
          "name": "stdout",
          "text": [
            "α= 3.895597190864737\n",
            "β= e^ 0.25800846\n",
            "y= 3.895597190864737 * e^ 0.25800846 x\n",
            "[0.33662645 1.15334662]\n"
          ]
        },
        {
          "output_type": "display_data",
          "data": {
            "text/plain": [
              "<Figure size 432x288 with 1 Axes>"
            ],
            "image/png": "[encoded data removed]"
          },
          "metadata": {
            "needs_background": "light"
          }
        }
      ],
      "source": [
        "import numpy as np\n",
        "import matplotlib.pyplot as plt\n",
        "import sympy as sym\n",
        "import math\n",
        "from math import e\n",
        "\n",
        "xi = [1, 2, 3, 4, 5, 6]\n",
        "yi = [4.5, 6, 9, 12, 17, 24]\n",
        "######################\n",
        "xi = np.array(xi)\n",
        "yi = np.array(yi)\n",
        "n = len(xi)\n",
        "\n",
        "\n",
        "\n",
        "\n",
        "\n",
        "#REGRESIÓN EXPONENCIAL\n",
        "log_a = np.log(xi)\n",
        "log_b = np.log(yi)\n",
        "\n",
        "coefficients = np.polyfit(xi, log_b, 1)\n",
        "\n",
        "alpha=e**1.35984699\n",
        "Beta =0.25800846\n",
        "\n",
        "Formula=alpha*e**Beta\n",
        "\n",
        "\n",
        "\n",
        "print(\"α=\", alpha )\n",
        "print( \"β=\"\" e^\",Beta)\n",
        "\n",
        "print(\"y=\", alpha,\"* \" \"e^\",Beta,\"x\" )\n",
        "\n",
        "print(coefficients)\n",
        "\n",
        "\n",
        "xi = np.arange(0,10,0.5)\n",
        "yi = (alpha) * (math.e)**(Beta*xi)\n",
        "\n",
        "\n",
        "plt.plot(xi,yi,'o', label='(xi,yi)')\n",
        "plt.plot(xi,yi, color = 'red')\n",
        "plt.xlabel('xi')\n",
        "plt.ylabel('yi')\n",
        "plt.legend()\n",
        "plt.show()"
      ]
    }
  ]
}